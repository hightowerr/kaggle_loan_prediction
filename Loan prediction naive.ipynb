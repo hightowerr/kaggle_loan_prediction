{
 "cells": [
  {
   "cell_type": "code",
   "execution_count": 1,
   "metadata": {},
   "outputs": [],
   "source": [
    "# Import necessary libraries\n",
    "from fastai.tabular.all import *\n",
    "import pandas as pd\n",
    "import matplotlib.pyplot as plt; plt.style.use('ggplot')\n",
    "import seaborn as sns\n",
    "import numpy as np\n",
    "\n",
    "from sklearn.ensemble import RandomForestClassifier\n",
    "from sklearn.metrics import roc_auc_score"
   ]
  },
  {
   "cell_type": "code",
   "execution_count": 2,
   "metadata": {},
   "outputs": [],
   "source": [
    "train_data  = pd.read_csv(\"/mnt/d/Dropbox/Kaggler/Loan Prediction/playground-series-s4e10/train.csv\")\n",
    "train = train_data.drop(\"id\", axis=1)\n",
    "test_data  = pd.read_csv(\"/mnt/d/Dropbox/Kaggler/Loan Prediction/playground-series-s4e10/test.csv\")\n",
    "test = test_data .drop(\"id\", axis=1)\n",
    "original = pd.read_csv('/mnt/d/Dropbox/Kaggler/Loan Prediction/playground-series-s4e10/credit_risk_dataset.csv')"
   ]
  },
  {
   "cell_type": "code",
   "execution_count": 3,
   "metadata": {},
   "outputs": [],
   "source": [
    "class Config:  \n",
    "    dep_var = 'loan_status'\n",
    "    n_folds = 5\n",
    "    seed = 4294\n",
    "    neighbors = 6"
   ]
  },
  {
   "cell_type": "code",
   "execution_count": 4,
   "metadata": {},
   "outputs": [],
   "source": [
    "preprocessing = [Categorify, Normalize]\n",
    "splits = RandomSplitter(valid_pct=0.20, seed=Config.seed)(range_of((train)))\n",
    "dep_var = Config.dep_var\n",
    "cont, cat = cont_cat_split(train, dep_var=dep_var)\n",
    "\n",
    "to = TabularPandas(train, procs=preprocessing, cat_names=cat, cont_names=cont, y_names=dep_var, splits=splits)"
   ]
  },
  {
   "cell_type": "code",
   "execution_count": 5,
   "metadata": {},
   "outputs": [
    {
     "data": {
      "text/plain": [
       "((46916, 11), (11729, 11))"
      ]
     },
     "execution_count": 5,
     "metadata": {},
     "output_type": "execute_result"
    }
   ],
   "source": [
    "dls = to.dataloaders(bs=64)\n",
    "test_dl = dls.test_dl(test)\n",
    "\n",
    "xs,y = to.train.xs, to.train.y\n",
    "valid_xs,valid_y = to.valid.xs, to.valid.y\n",
    "xs.shape, valid_xs.shape"
   ]
  },
  {
   "cell_type": "code",
   "execution_count": 6,
   "metadata": {},
   "outputs": [
    {
     "name": "stdout",
     "output_type": "stream",
     "text": [
      "0.9416456025529115\n"
     ]
    }
   ],
   "source": [
    "m = RandomForestClassifier(200, min_samples_leaf=5, random_state=Config.seed).fit(xs, y)\n",
    "# mean_absolute_error(valid_y, m.predict(valid_xs))\n",
    "print(roc_auc_score(valid_y, m.predict_proba(valid_xs)[:,1]))\n",
    "# print(roc_auc_score(valid_y.values, m.predict_proba(valid_xs)))"
   ]
  },
  {
   "cell_type": "code",
   "execution_count": 7,
   "metadata": {},
   "outputs": [
    {
     "data": {
      "text/html": [
       "<div>\n",
       "<style scoped>\n",
       "    .dataframe tbody tr th:only-of-type {\n",
       "        vertical-align: middle;\n",
       "    }\n",
       "\n",
       "    .dataframe tbody tr th {\n",
       "        vertical-align: top;\n",
       "    }\n",
       "\n",
       "    .dataframe thead th {\n",
       "        text-align: right;\n",
       "    }\n",
       "</style>\n",
       "<table border=\"1\" class=\"dataframe\">\n",
       "  <thead>\n",
       "    <tr style=\"text-align: right;\">\n",
       "      <th></th>\n",
       "      <th>cols</th>\n",
       "      <th>imp</th>\n",
       "    </tr>\n",
       "  </thead>\n",
       "  <tbody>\n",
       "    <tr>\n",
       "      <th>3</th>\n",
       "      <td>cb_person_default_on_file</td>\n",
       "      <td>0.010301</td>\n",
       "    </tr>\n",
       "    <tr>\n",
       "      <th>10</th>\n",
       "      <td>cb_person_cred_hist_length</td>\n",
       "      <td>0.016812</td>\n",
       "    </tr>\n",
       "    <tr>\n",
       "      <th>4</th>\n",
       "      <td>person_age</td>\n",
       "      <td>0.021105</td>\n",
       "    </tr>\n",
       "    <tr>\n",
       "      <th>7</th>\n",
       "      <td>loan_amnt</td>\n",
       "      <td>0.047397</td>\n",
       "    </tr>\n",
       "    <tr>\n",
       "      <th>6</th>\n",
       "      <td>person_emp_length</td>\n",
       "      <td>0.049981</td>\n",
       "    </tr>\n",
       "    <tr>\n",
       "      <th>1</th>\n",
       "      <td>loan_intent</td>\n",
       "      <td>0.065493</td>\n",
       "    </tr>\n",
       "    <tr>\n",
       "      <th>5</th>\n",
       "      <td>person_income</td>\n",
       "      <td>0.089827</td>\n",
       "    </tr>\n",
       "    <tr>\n",
       "      <th>8</th>\n",
       "      <td>loan_int_rate</td>\n",
       "      <td>0.118927</td>\n",
       "    </tr>\n",
       "    <tr>\n",
       "      <th>0</th>\n",
       "      <td>person_home_ownership</td>\n",
       "      <td>0.119992</td>\n",
       "    </tr>\n",
       "    <tr>\n",
       "      <th>2</th>\n",
       "      <td>loan_grade</td>\n",
       "      <td>0.169071</td>\n",
       "    </tr>\n",
       "  </tbody>\n",
       "</table>\n",
       "</div>"
      ],
      "text/plain": [
       "                          cols       imp\n",
       "3    cb_person_default_on_file  0.010301\n",
       "10  cb_person_cred_hist_length  0.016812\n",
       "4                   person_age  0.021105\n",
       "7                    loan_amnt  0.047397\n",
       "6            person_emp_length  0.049981\n",
       "1                  loan_intent  0.065493\n",
       "5                person_income  0.089827\n",
       "8                loan_int_rate  0.118927\n",
       "0        person_home_ownership  0.119992\n",
       "2                   loan_grade  0.169071"
      ]
     },
     "execution_count": 7,
     "metadata": {},
     "output_type": "execute_result"
    }
   ],
   "source": [
    "def rf_feat_importance(m, df):\n",
    "    return pd.DataFrame({'cols':df.columns, 'imp':m.feature_importances_}\n",
    "                       ).sort_values('imp', ascending=True)\n",
    "\n",
    "fi = rf_feat_importance(m, xs)\n",
    "fi[:10]"
   ]
  },
  {
   "cell_type": "code",
   "execution_count": 8,
   "metadata": {},
   "outputs": [
    {
     "data": {
      "image/png": "[encoded data removed]",
      "text/plain": [
       "<Figure size 800x600 with 1 Axes>"
      ]
     },
     "metadata": {},
     "output_type": "display_data"
    }
   ],
   "source": [
    "def plot_fi(fi):\n",
    "    return fi.plot('cols', 'imp', 'barh', figsize=(8,6), legend=False)\n",
    "\n",
    "plot_fi(fi[:30]);"
   ]
  },
  {
   "cell_type": "markdown",
   "metadata": {},
   "source": [
    "#### Removing Low-Importance Variables"
   ]
  },
  {
   "cell_type": "code",
   "execution_count": 9,
   "metadata": {},
   "outputs": [
    {
     "data": {
      "text/plain": [
       "8"
      ]
     },
     "execution_count": 9,
     "metadata": {},
     "output_type": "execute_result"
    }
   ],
   "source": [
    "to_keep = fi[fi.imp>0.045].cols\n",
    "len(to_keep)"
   ]
  },
  {
   "cell_type": "code",
   "execution_count": 10,
   "metadata": {},
   "outputs": [
    {
     "name": "stdout",
     "output_type": "stream",
     "text": [
      "0.9421196536604665\n"
     ]
    }
   ],
   "source": [
    "xs_imp = xs[to_keep]\n",
    "valid_xs_imp = valid_xs[to_keep]\n",
    "\n",
    "\n",
    "m_imp = RandomForestClassifier(200, min_samples_leaf=5, random_state=Config.seed).fit(xs_imp, y)\n",
    "print(roc_auc_score(valid_y, m_imp.predict_proba(valid_xs_imp)[:,1]))"
   ]
  },
  {
   "cell_type": "code",
   "execution_count": 17,
   "metadata": {},
   "outputs": [
    {
     "name": "stdout",
     "output_type": "stream",
     "text": [
      "roc_auc of m: 0.9416456025529115\n",
      "roc_auc of m_imp: 0.9421196536604665\n"
     ]
    }
   ],
   "source": [
    "#print the roc_auc of m and m_imp using descriptive names\n",
    "print('roc_auc of m:', roc_auc_score(valid_y, m.predict_proba(valid_xs)[:,1]))\n",
    "print('roc_auc of m_imp:', roc_auc_score(valid_y, m_imp.predict_proba(valid_xs_imp)[:,1]))\n",
    "\n"
   ]
  },
  {
   "cell_type": "code",
   "execution_count": null,
   "metadata": {},
   "outputs": [],
   "source": []
  }
 ],
 "metadata": {
  "kernelspec": {
   "display_name": "Python 3",
   "language": "python",
   "name": "python3"
  },
  "language_info": {
   "codemirror_mode": {
    "name": "ipython",
    "version": 3
   },
   "file_extension": ".py",
   "mimetype": "text/x-python",
   "name": "python",
   "nbconvert_exporter": "python",
   "pygments_lexer": "ipython3",
   "version": "3.10.14"
  }
 },
 "nbformat": 4,
 "nbformat_minor": 2
}
